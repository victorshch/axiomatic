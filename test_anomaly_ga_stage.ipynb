{
 "cells": [
  {
   "cell_type": "code",
   "execution_count": 80,
   "metadata": {
    "collapsed": false
   },
   "outputs": [],
   "source": [
    "import axiomatic\n",
    "from axiomatic import axiom_training_stage\n",
    "from axiomatic.axiom_training_stage import KMeansClusteringAxiomStage\n",
    "from axiomatic import anomaly_recognizer_training_stage\n",
    "from axiomatic.anomaly_recognizer_training_stage import GeneticAlgorithm"
   ]
  },
  {
   "cell_type": "code",
   "execution_count": 51,
   "metadata": {
    "collapsed": true
   },
   "outputs": [],
   "source": [
    "import numpy as np\n",
    "import pandas as pd\n",
    "import random"
   ]
  },
  {
   "cell_type": "markdown",
   "metadata": {},
   "source": [
    "### Test"
   ]
  },
  {
   "cell_type": "markdown",
   "metadata": {},
   "source": [
    "#### Prepare data"
   ]
  },
  {
   "cell_type": "code",
   "execution_count": 5,
   "metadata": {
    "collapsed": true
   },
   "outputs": [],
   "source": [
    "ds = pd.read_csv('train.csv', sep=',', header=None)"
   ]
  },
  {
   "cell_type": "code",
   "execution_count": 6,
   "metadata": {
    "collapsed": false
   },
   "outputs": [],
   "source": [
    "ds.columns = ['class_']+list(ds.columns[1:])"
   ]
  },
  {
   "cell_type": "code",
   "execution_count": 7,
   "metadata": {
    "collapsed": false
   },
   "outputs": [
    {
     "data": {
      "text/html": [
       "<div>\n",
       "<table border=\"1\" class=\"dataframe\">\n",
       "  <thead>\n",
       "    <tr style=\"text-align: right;\">\n",
       "      <th></th>\n",
       "      <th>class_</th>\n",
       "      <th>1</th>\n",
       "      <th>2</th>\n",
       "      <th>3</th>\n",
       "      <th>4</th>\n",
       "      <th>5</th>\n",
       "      <th>6</th>\n",
       "      <th>7</th>\n",
       "      <th>8</th>\n",
       "      <th>9</th>\n",
       "      <th>...</th>\n",
       "      <th>87</th>\n",
       "      <th>88</th>\n",
       "      <th>89</th>\n",
       "      <th>90</th>\n",
       "      <th>91</th>\n",
       "      <th>92</th>\n",
       "      <th>93</th>\n",
       "      <th>94</th>\n",
       "      <th>95</th>\n",
       "      <th>96</th>\n",
       "    </tr>\n",
       "  </thead>\n",
       "  <tbody>\n",
       "    <tr>\n",
       "      <th>0</th>\n",
       "      <td>1</td>\n",
       "      <td>-0.18611</td>\n",
       "      <td>-0.18611</td>\n",
       "      <td>-0.18611</td>\n",
       "      <td>-0.18611</td>\n",
       "      <td>-0.18611</td>\n",
       "      <td>-0.18611</td>\n",
       "      <td>-0.18611</td>\n",
       "      <td>-0.18611</td>\n",
       "      <td>-0.18611</td>\n",
       "      <td>...</td>\n",
       "      <td>5.99020</td>\n",
       "      <td>2.91270</td>\n",
       "      <td>-0.18611</td>\n",
       "      <td>-0.18611</td>\n",
       "      <td>-0.18611</td>\n",
       "      <td>-0.18611</td>\n",
       "      <td>-0.18611</td>\n",
       "      <td>-0.18611</td>\n",
       "      <td>-0.18611</td>\n",
       "      <td>-0.18611</td>\n",
       "    </tr>\n",
       "    <tr>\n",
       "      <th>1</th>\n",
       "      <td>1</td>\n",
       "      <td>-0.17700</td>\n",
       "      <td>-0.17700</td>\n",
       "      <td>-0.17700</td>\n",
       "      <td>-0.17700</td>\n",
       "      <td>-0.17700</td>\n",
       "      <td>-0.17700</td>\n",
       "      <td>-0.17700</td>\n",
       "      <td>-0.17700</td>\n",
       "      <td>-0.17700</td>\n",
       "      <td>...</td>\n",
       "      <td>0.19151</td>\n",
       "      <td>6.47670</td>\n",
       "      <td>1.64510</td>\n",
       "      <td>-0.17700</td>\n",
       "      <td>-0.17700</td>\n",
       "      <td>-0.17700</td>\n",
       "      <td>-0.17700</td>\n",
       "      <td>-0.17700</td>\n",
       "      <td>-0.17700</td>\n",
       "      <td>-0.17700</td>\n",
       "    </tr>\n",
       "    <tr>\n",
       "      <th>2</th>\n",
       "      <td>1</td>\n",
       "      <td>-0.21353</td>\n",
       "      <td>-0.21353</td>\n",
       "      <td>-0.21353</td>\n",
       "      <td>-0.21353</td>\n",
       "      <td>-0.21353</td>\n",
       "      <td>-0.21353</td>\n",
       "      <td>-0.21353</td>\n",
       "      <td>-0.21353</td>\n",
       "      <td>-0.21353</td>\n",
       "      <td>...</td>\n",
       "      <td>-0.21353</td>\n",
       "      <td>-0.21353</td>\n",
       "      <td>-0.21353</td>\n",
       "      <td>-0.21353</td>\n",
       "      <td>-0.21353</td>\n",
       "      <td>-0.21353</td>\n",
       "      <td>-0.21353</td>\n",
       "      <td>-0.21353</td>\n",
       "      <td>-0.21353</td>\n",
       "      <td>-0.21353</td>\n",
       "    </tr>\n",
       "    <tr>\n",
       "      <th>3</th>\n",
       "      <td>1</td>\n",
       "      <td>-0.17147</td>\n",
       "      <td>-0.17147</td>\n",
       "      <td>-0.17147</td>\n",
       "      <td>-0.17147</td>\n",
       "      <td>-0.17147</td>\n",
       "      <td>-0.17147</td>\n",
       "      <td>-0.17147</td>\n",
       "      <td>-0.17147</td>\n",
       "      <td>-0.17147</td>\n",
       "      <td>...</td>\n",
       "      <td>0.16088</td>\n",
       "      <td>0.18043</td>\n",
       "      <td>0.16088</td>\n",
       "      <td>7.35540</td>\n",
       "      <td>1.17750</td>\n",
       "      <td>-0.17147</td>\n",
       "      <td>-0.17147</td>\n",
       "      <td>-0.17147</td>\n",
       "      <td>-0.17147</td>\n",
       "      <td>-0.17147</td>\n",
       "    </tr>\n",
       "    <tr>\n",
       "      <th>4</th>\n",
       "      <td>1</td>\n",
       "      <td>-0.16927</td>\n",
       "      <td>-0.16927</td>\n",
       "      <td>-0.16927</td>\n",
       "      <td>-0.16927</td>\n",
       "      <td>-0.16927</td>\n",
       "      <td>-0.16927</td>\n",
       "      <td>-0.16927</td>\n",
       "      <td>-0.16927</td>\n",
       "      <td>-0.16927</td>\n",
       "      <td>...</td>\n",
       "      <td>0.19095</td>\n",
       "      <td>6.07440</td>\n",
       "      <td>0.17093</td>\n",
       "      <td>0.19095</td>\n",
       "      <td>0.19095</td>\n",
       "      <td>7.39520</td>\n",
       "      <td>0.85133</td>\n",
       "      <td>-0.16927</td>\n",
       "      <td>-0.16927</td>\n",
       "      <td>-0.16927</td>\n",
       "    </tr>\n",
       "  </tbody>\n",
       "</table>\n",
       "<p>5 rows × 97 columns</p>\n",
       "</div>"
      ],
      "text/plain": [
       "   class_        1        2        3        4        5        6        7  \\\n",
       "0       1 -0.18611 -0.18611 -0.18611 -0.18611 -0.18611 -0.18611 -0.18611   \n",
       "1       1 -0.17700 -0.17700 -0.17700 -0.17700 -0.17700 -0.17700 -0.17700   \n",
       "2       1 -0.21353 -0.21353 -0.21353 -0.21353 -0.21353 -0.21353 -0.21353   \n",
       "3       1 -0.17147 -0.17147 -0.17147 -0.17147 -0.17147 -0.17147 -0.17147   \n",
       "4       1 -0.16927 -0.16927 -0.16927 -0.16927 -0.16927 -0.16927 -0.16927   \n",
       "\n",
       "         8        9   ...          87       88       89       90       91  \\\n",
       "0 -0.18611 -0.18611   ...     5.99020  2.91270 -0.18611 -0.18611 -0.18611   \n",
       "1 -0.17700 -0.17700   ...     0.19151  6.47670  1.64510 -0.17700 -0.17700   \n",
       "2 -0.21353 -0.21353   ...    -0.21353 -0.21353 -0.21353 -0.21353 -0.21353   \n",
       "3 -0.17147 -0.17147   ...     0.16088  0.18043  0.16088  7.35540  1.17750   \n",
       "4 -0.16927 -0.16927   ...     0.19095  6.07440  0.17093  0.19095  0.19095   \n",
       "\n",
       "        92       93       94       95       96  \n",
       "0 -0.18611 -0.18611 -0.18611 -0.18611 -0.18611  \n",
       "1 -0.17700 -0.17700 -0.17700 -0.17700 -0.17700  \n",
       "2 -0.21353 -0.21353 -0.21353 -0.21353 -0.21353  \n",
       "3 -0.17147 -0.17147 -0.17147 -0.17147 -0.17147  \n",
       "4  7.39520  0.85133 -0.16927 -0.16927 -0.16927  \n",
       "\n",
       "[5 rows x 97 columns]"
      ]
     },
     "execution_count": 7,
     "metadata": {},
     "output_type": "execute_result"
    }
   ],
   "source": [
    "ds.head()"
   ]
  },
  {
   "cell_type": "code",
   "execution_count": 8,
   "metadata": {
    "collapsed": false
   },
   "outputs": [],
   "source": [
    "ds.drop('class_', inplace=True, axis=1)"
   ]
  },
  {
   "cell_type": "code",
   "execution_count": 9,
   "metadata": {
    "collapsed": false
   },
   "outputs": [
    {
     "data": {
      "text/html": [
       "<div>\n",
       "<table border=\"1\" class=\"dataframe\">\n",
       "  <thead>\n",
       "    <tr style=\"text-align: right;\">\n",
       "      <th></th>\n",
       "      <th>1</th>\n",
       "      <th>2</th>\n",
       "      <th>3</th>\n",
       "      <th>4</th>\n",
       "      <th>5</th>\n",
       "      <th>6</th>\n",
       "      <th>7</th>\n",
       "      <th>8</th>\n",
       "      <th>9</th>\n",
       "      <th>10</th>\n",
       "      <th>...</th>\n",
       "      <th>87</th>\n",
       "      <th>88</th>\n",
       "      <th>89</th>\n",
       "      <th>90</th>\n",
       "      <th>91</th>\n",
       "      <th>92</th>\n",
       "      <th>93</th>\n",
       "      <th>94</th>\n",
       "      <th>95</th>\n",
       "      <th>96</th>\n",
       "    </tr>\n",
       "  </thead>\n",
       "  <tbody>\n",
       "    <tr>\n",
       "      <th>0</th>\n",
       "      <td>-0.18611</td>\n",
       "      <td>-0.18611</td>\n",
       "      <td>-0.18611</td>\n",
       "      <td>-0.18611</td>\n",
       "      <td>-0.18611</td>\n",
       "      <td>-0.18611</td>\n",
       "      <td>-0.18611</td>\n",
       "      <td>-0.18611</td>\n",
       "      <td>-0.18611</td>\n",
       "      <td>-0.18611</td>\n",
       "      <td>...</td>\n",
       "      <td>5.99020</td>\n",
       "      <td>2.91270</td>\n",
       "      <td>-0.18611</td>\n",
       "      <td>-0.18611</td>\n",
       "      <td>-0.18611</td>\n",
       "      <td>-0.18611</td>\n",
       "      <td>-0.18611</td>\n",
       "      <td>-0.18611</td>\n",
       "      <td>-0.18611</td>\n",
       "      <td>-0.18611</td>\n",
       "    </tr>\n",
       "    <tr>\n",
       "      <th>1</th>\n",
       "      <td>-0.17700</td>\n",
       "      <td>-0.17700</td>\n",
       "      <td>-0.17700</td>\n",
       "      <td>-0.17700</td>\n",
       "      <td>-0.17700</td>\n",
       "      <td>-0.17700</td>\n",
       "      <td>-0.17700</td>\n",
       "      <td>-0.17700</td>\n",
       "      <td>-0.17700</td>\n",
       "      <td>-0.17700</td>\n",
       "      <td>...</td>\n",
       "      <td>0.19151</td>\n",
       "      <td>6.47670</td>\n",
       "      <td>1.64510</td>\n",
       "      <td>-0.17700</td>\n",
       "      <td>-0.17700</td>\n",
       "      <td>-0.17700</td>\n",
       "      <td>-0.17700</td>\n",
       "      <td>-0.17700</td>\n",
       "      <td>-0.17700</td>\n",
       "      <td>-0.17700</td>\n",
       "    </tr>\n",
       "    <tr>\n",
       "      <th>2</th>\n",
       "      <td>-0.21353</td>\n",
       "      <td>-0.21353</td>\n",
       "      <td>-0.21353</td>\n",
       "      <td>-0.21353</td>\n",
       "      <td>-0.21353</td>\n",
       "      <td>-0.21353</td>\n",
       "      <td>-0.21353</td>\n",
       "      <td>-0.21353</td>\n",
       "      <td>-0.21353</td>\n",
       "      <td>-0.21353</td>\n",
       "      <td>...</td>\n",
       "      <td>-0.21353</td>\n",
       "      <td>-0.21353</td>\n",
       "      <td>-0.21353</td>\n",
       "      <td>-0.21353</td>\n",
       "      <td>-0.21353</td>\n",
       "      <td>-0.21353</td>\n",
       "      <td>-0.21353</td>\n",
       "      <td>-0.21353</td>\n",
       "      <td>-0.21353</td>\n",
       "      <td>-0.21353</td>\n",
       "    </tr>\n",
       "    <tr>\n",
       "      <th>3</th>\n",
       "      <td>-0.17147</td>\n",
       "      <td>-0.17147</td>\n",
       "      <td>-0.17147</td>\n",
       "      <td>-0.17147</td>\n",
       "      <td>-0.17147</td>\n",
       "      <td>-0.17147</td>\n",
       "      <td>-0.17147</td>\n",
       "      <td>-0.17147</td>\n",
       "      <td>-0.17147</td>\n",
       "      <td>-0.17147</td>\n",
       "      <td>...</td>\n",
       "      <td>0.16088</td>\n",
       "      <td>0.18043</td>\n",
       "      <td>0.16088</td>\n",
       "      <td>7.35540</td>\n",
       "      <td>1.17750</td>\n",
       "      <td>-0.17147</td>\n",
       "      <td>-0.17147</td>\n",
       "      <td>-0.17147</td>\n",
       "      <td>-0.17147</td>\n",
       "      <td>-0.17147</td>\n",
       "    </tr>\n",
       "    <tr>\n",
       "      <th>4</th>\n",
       "      <td>-0.16927</td>\n",
       "      <td>-0.16927</td>\n",
       "      <td>-0.16927</td>\n",
       "      <td>-0.16927</td>\n",
       "      <td>-0.16927</td>\n",
       "      <td>-0.16927</td>\n",
       "      <td>-0.16927</td>\n",
       "      <td>-0.16927</td>\n",
       "      <td>-0.16927</td>\n",
       "      <td>-0.16927</td>\n",
       "      <td>...</td>\n",
       "      <td>0.19095</td>\n",
       "      <td>6.07440</td>\n",
       "      <td>0.17093</td>\n",
       "      <td>0.19095</td>\n",
       "      <td>0.19095</td>\n",
       "      <td>7.39520</td>\n",
       "      <td>0.85133</td>\n",
       "      <td>-0.16927</td>\n",
       "      <td>-0.16927</td>\n",
       "      <td>-0.16927</td>\n",
       "    </tr>\n",
       "  </tbody>\n",
       "</table>\n",
       "<p>5 rows × 96 columns</p>\n",
       "</div>"
      ],
      "text/plain": [
       "        1        2        3        4        5        6        7        8   \\\n",
       "0 -0.18611 -0.18611 -0.18611 -0.18611 -0.18611 -0.18611 -0.18611 -0.18611   \n",
       "1 -0.17700 -0.17700 -0.17700 -0.17700 -0.17700 -0.17700 -0.17700 -0.17700   \n",
       "2 -0.21353 -0.21353 -0.21353 -0.21353 -0.21353 -0.21353 -0.21353 -0.21353   \n",
       "3 -0.17147 -0.17147 -0.17147 -0.17147 -0.17147 -0.17147 -0.17147 -0.17147   \n",
       "4 -0.16927 -0.16927 -0.16927 -0.16927 -0.16927 -0.16927 -0.16927 -0.16927   \n",
       "\n",
       "        9        10   ...          87       88       89       90       91  \\\n",
       "0 -0.18611 -0.18611   ...     5.99020  2.91270 -0.18611 -0.18611 -0.18611   \n",
       "1 -0.17700 -0.17700   ...     0.19151  6.47670  1.64510 -0.17700 -0.17700   \n",
       "2 -0.21353 -0.21353   ...    -0.21353 -0.21353 -0.21353 -0.21353 -0.21353   \n",
       "3 -0.17147 -0.17147   ...     0.16088  0.18043  0.16088  7.35540  1.17750   \n",
       "4 -0.16927 -0.16927   ...     0.19095  6.07440  0.17093  0.19095  0.19095   \n",
       "\n",
       "        92       93       94       95       96  \n",
       "0 -0.18611 -0.18611 -0.18611 -0.18611 -0.18611  \n",
       "1 -0.17700 -0.17700 -0.17700 -0.17700 -0.17700  \n",
       "2 -0.21353 -0.21353 -0.21353 -0.21353 -0.21353  \n",
       "3 -0.17147 -0.17147 -0.17147 -0.17147 -0.17147  \n",
       "4  7.39520  0.85133 -0.16927 -0.16927 -0.16927  \n",
       "\n",
       "[5 rows x 96 columns]"
      ]
     },
     "execution_count": 9,
     "metadata": {},
     "output_type": "execute_result"
    }
   ],
   "source": [
    "ds.head()"
   ]
  },
  {
   "cell_type": "code",
   "execution_count": 10,
   "metadata": {
    "collapsed": false
   },
   "outputs": [],
   "source": [
    "ds = ds.sample(100, random_state=42)"
   ]
  },
  {
   "cell_type": "code",
   "execution_count": 11,
   "metadata": {
    "collapsed": false
   },
   "outputs": [
    {
     "name": "stdout",
     "output_type": "stream",
     "text": [
      "(100, 96)\n"
     ]
    },
    {
     "data": {
      "text/html": [
       "<div>\n",
       "<table border=\"1\" class=\"dataframe\">\n",
       "  <thead>\n",
       "    <tr style=\"text-align: right;\">\n",
       "      <th></th>\n",
       "      <th>1</th>\n",
       "      <th>2</th>\n",
       "      <th>3</th>\n",
       "      <th>4</th>\n",
       "      <th>5</th>\n",
       "      <th>6</th>\n",
       "      <th>7</th>\n",
       "      <th>8</th>\n",
       "      <th>9</th>\n",
       "      <th>10</th>\n",
       "      <th>...</th>\n",
       "      <th>87</th>\n",
       "      <th>88</th>\n",
       "      <th>89</th>\n",
       "      <th>90</th>\n",
       "      <th>91</th>\n",
       "      <th>92</th>\n",
       "      <th>93</th>\n",
       "      <th>94</th>\n",
       "      <th>95</th>\n",
       "      <th>96</th>\n",
       "    </tr>\n",
       "  </thead>\n",
       "  <tbody>\n",
       "    <tr>\n",
       "      <th>6170</th>\n",
       "      <td>-0.12069</td>\n",
       "      <td>-0.12069</td>\n",
       "      <td>-0.12069</td>\n",
       "      <td>-0.12069</td>\n",
       "      <td>-0.12069</td>\n",
       "      <td>-0.12069</td>\n",
       "      <td>-0.12069</td>\n",
       "      <td>-0.12069</td>\n",
       "      <td>-0.12069</td>\n",
       "      <td>-0.12069</td>\n",
       "      <td>...</td>\n",
       "      <td>-0.12069</td>\n",
       "      <td>-0.120690</td>\n",
       "      <td>-0.12069</td>\n",
       "      <td>-0.12069</td>\n",
       "      <td>-0.12069</td>\n",
       "      <td>-0.12069</td>\n",
       "      <td>-0.12069</td>\n",
       "      <td>-0.12069</td>\n",
       "      <td>-0.12069</td>\n",
       "      <td>-0.12069</td>\n",
       "    </tr>\n",
       "    <tr>\n",
       "      <th>5832</th>\n",
       "      <td>-0.33024</td>\n",
       "      <td>-0.33024</td>\n",
       "      <td>-0.33024</td>\n",
       "      <td>-0.33024</td>\n",
       "      <td>-0.33024</td>\n",
       "      <td>-0.33024</td>\n",
       "      <td>-0.33024</td>\n",
       "      <td>-0.33024</td>\n",
       "      <td>-0.33024</td>\n",
       "      <td>-0.33024</td>\n",
       "      <td>...</td>\n",
       "      <td>0.83147</td>\n",
       "      <td>-0.156520</td>\n",
       "      <td>-0.16738</td>\n",
       "      <td>4.70740</td>\n",
       "      <td>-0.33024</td>\n",
       "      <td>-0.33024</td>\n",
       "      <td>-0.33024</td>\n",
       "      <td>-0.33024</td>\n",
       "      <td>-0.33024</td>\n",
       "      <td>-0.33024</td>\n",
       "    </tr>\n",
       "    <tr>\n",
       "      <th>286</th>\n",
       "      <td>1.12130</td>\n",
       "      <td>1.22370</td>\n",
       "      <td>1.12130</td>\n",
       "      <td>1.22370</td>\n",
       "      <td>1.12130</td>\n",
       "      <td>1.22370</td>\n",
       "      <td>1.12130</td>\n",
       "      <td>1.12130</td>\n",
       "      <td>1.12130</td>\n",
       "      <td>1.12130</td>\n",
       "      <td>...</td>\n",
       "      <td>0.91643</td>\n",
       "      <td>1.121300</td>\n",
       "      <td>-1.02950</td>\n",
       "      <td>-1.02950</td>\n",
       "      <td>-0.82468</td>\n",
       "      <td>1.32610</td>\n",
       "      <td>0.50676</td>\n",
       "      <td>-1.02950</td>\n",
       "      <td>-1.02950</td>\n",
       "      <td>-0.72226</td>\n",
       "    </tr>\n",
       "    <tr>\n",
       "      <th>8484</th>\n",
       "      <td>1.09580</td>\n",
       "      <td>1.01400</td>\n",
       "      <td>0.93220</td>\n",
       "      <td>0.85040</td>\n",
       "      <td>-1.19470</td>\n",
       "      <td>-0.86744</td>\n",
       "      <td>1.01400</td>\n",
       "      <td>0.93220</td>\n",
       "      <td>1.09580</td>\n",
       "      <td>1.09580</td>\n",
       "      <td>...</td>\n",
       "      <td>-1.19470</td>\n",
       "      <td>-0.049422</td>\n",
       "      <td>0.93220</td>\n",
       "      <td>-0.21303</td>\n",
       "      <td>1.01400</td>\n",
       "      <td>1.01400</td>\n",
       "      <td>-1.19470</td>\n",
       "      <td>-1.19470</td>\n",
       "      <td>-1.19470</td>\n",
       "      <td>-1.19470</td>\n",
       "    </tr>\n",
       "    <tr>\n",
       "      <th>5684</th>\n",
       "      <td>-0.21141</td>\n",
       "      <td>-0.19494</td>\n",
       "      <td>-0.22787</td>\n",
       "      <td>-0.20866</td>\n",
       "      <td>-0.20317</td>\n",
       "      <td>-0.22787</td>\n",
       "      <td>-0.20592</td>\n",
       "      <td>-0.21141</td>\n",
       "      <td>-0.22787</td>\n",
       "      <td>-0.19494</td>\n",
       "      <td>...</td>\n",
       "      <td>-0.17299</td>\n",
       "      <td>-0.205920</td>\n",
       "      <td>-0.19494</td>\n",
       "      <td>-0.19494</td>\n",
       "      <td>-0.21689</td>\n",
       "      <td>-0.19220</td>\n",
       "      <td>-0.20592</td>\n",
       "      <td>-0.21141</td>\n",
       "      <td>-0.18397</td>\n",
       "      <td>-0.21689</td>\n",
       "    </tr>\n",
       "  </tbody>\n",
       "</table>\n",
       "<p>5 rows × 96 columns</p>\n",
       "</div>"
      ],
      "text/plain": [
       "           1        2        3        4        5        6        7        8   \\\n",
       "6170 -0.12069 -0.12069 -0.12069 -0.12069 -0.12069 -0.12069 -0.12069 -0.12069   \n",
       "5832 -0.33024 -0.33024 -0.33024 -0.33024 -0.33024 -0.33024 -0.33024 -0.33024   \n",
       "286   1.12130  1.22370  1.12130  1.22370  1.12130  1.22370  1.12130  1.12130   \n",
       "8484  1.09580  1.01400  0.93220  0.85040 -1.19470 -0.86744  1.01400  0.93220   \n",
       "5684 -0.21141 -0.19494 -0.22787 -0.20866 -0.20317 -0.22787 -0.20592 -0.21141   \n",
       "\n",
       "           9        10   ...          87        88       89       90       91  \\\n",
       "6170 -0.12069 -0.12069   ...    -0.12069 -0.120690 -0.12069 -0.12069 -0.12069   \n",
       "5832 -0.33024 -0.33024   ...     0.83147 -0.156520 -0.16738  4.70740 -0.33024   \n",
       "286   1.12130  1.12130   ...     0.91643  1.121300 -1.02950 -1.02950 -0.82468   \n",
       "8484  1.09580  1.09580   ...    -1.19470 -0.049422  0.93220 -0.21303  1.01400   \n",
       "5684 -0.22787 -0.19494   ...    -0.17299 -0.205920 -0.19494 -0.19494 -0.21689   \n",
       "\n",
       "           92       93       94       95       96  \n",
       "6170 -0.12069 -0.12069 -0.12069 -0.12069 -0.12069  \n",
       "5832 -0.33024 -0.33024 -0.33024 -0.33024 -0.33024  \n",
       "286   1.32610  0.50676 -1.02950 -1.02950 -0.72226  \n",
       "8484  1.01400 -1.19470 -1.19470 -1.19470 -1.19470  \n",
       "5684 -0.19220 -0.20592 -0.21141 -0.18397 -0.21689  \n",
       "\n",
       "[5 rows x 96 columns]"
      ]
     },
     "execution_count": 11,
     "metadata": {},
     "output_type": "execute_result"
    }
   ],
   "source": [
    "print(ds.shape)\n",
    "ds.head()"
   ]
  },
  {
   "cell_type": "code",
   "execution_count": 12,
   "metadata": {
    "collapsed": false
   },
   "outputs": [],
   "source": [
    "df_list = [] # list of time series, type(time series)=pd.DataFrame\n",
    "for index, row in ds.iterrows():\n",
    "    df_list.append(pd.DataFrame(row))"
   ]
  },
  {
   "cell_type": "code",
   "execution_count": 13,
   "metadata": {
    "collapsed": false
   },
   "outputs": [
    {
     "data": {
      "text/plain": [
       "100"
      ]
     },
     "execution_count": 13,
     "metadata": {},
     "output_type": "execute_result"
    }
   ],
   "source": [
    "len(df_list)"
   ]
  },
  {
   "cell_type": "code",
   "execution_count": 14,
   "metadata": {
    "collapsed": true
   },
   "outputs": [],
   "source": [
    "df_list_stage1 = df_list[:34] # train time series to create axoims set\n",
    "df_list_stage2 = df_list[34:66] # train time series to create axioms marking\n",
    "df_list_stage3 = df_list[66:] # train time series to learn anomaly recognizer"
   ]
  },
  {
   "cell_type": "code",
   "execution_count": 15,
   "metadata": {
    "collapsed": true
   },
   "outputs": [],
   "source": [
    "df_list_stage2_normal = df_list_stage2[:16]\n",
    "df_list_stage2_anomaly = df_list_stage2[16:]\n",
    "\n",
    "df_list_stage3_normal = df_list_stage3[:17]\n",
    "df_list_stage3_anomaly = df_list_stage3[17:]"
   ]
  },
  {
   "cell_type": "code",
   "execution_count": 16,
   "metadata": {
    "collapsed": true
   },
   "outputs": [],
   "source": [
    "#del ds, df_list"
   ]
  },
  {
   "cell_type": "markdown",
   "metadata": {},
   "source": [
    "#### Create multy-layer dataset"
   ]
  },
  {
   "cell_type": "code",
   "execution_count": 17,
   "metadata": {
    "collapsed": true
   },
   "outputs": [],
   "source": [
    "train_dict = {'normal': df_list_stage1}\n",
    "test_dict = {'normal': df_list_stage2_normal, 'anomaly': df_list_stage2_anomaly}\n",
    "validate_dict = {'normal': df_list_stage3_normal, 'anomaly': df_list_stage3_anomaly}\n",
    "dataset = {'train': train_dict, 'test': test_dict, 'validate': validate_dict}"
   ]
  },
  {
   "cell_type": "markdown",
   "metadata": {},
   "source": [
    "#### Stage 1. Create axioms set"
   ]
  },
  {
   "cell_type": "code",
   "execution_count": 18,
   "metadata": {
    "collapsed": false
   },
   "outputs": [],
   "source": [
    "config = {'clustering_params': {'n_clusters': 15, 'init': 'k-means++', 'n_init': 10}, \n",
    "          'feature_extraction_params': {'sample_length': 20, 'ratio': 0.2}}\n",
    "model = KMeansClusteringAxiomStage(config)"
   ]
  },
  {
   "cell_type": "code",
   "execution_count": 19,
   "metadata": {
    "collapsed": false
   },
   "outputs": [],
   "source": [
    "artifacts = model.train(dataset)"
   ]
  },
  {
   "cell_type": "code",
   "execution_count": 45,
   "metadata": {
    "collapsed": false
   },
   "outputs": [
    {
     "name": "stdout",
     "output_type": "stream",
     "text": [
      "<type 'list'>\n"
     ]
    },
    {
     "data": {
      "text/plain": [
       "[<axiomatic.axiom_training_stage.ClusteringAxiom at 0x7135e10>,\n",
       " <axiomatic.axiom_training_stage.ClusteringAxiom at 0x7135810>,\n",
       " <axiomatic.axiom_training_stage.ClusteringAxiom at 0x13a8c70>,\n",
       " <axiomatic.axiom_training_stage.ClusteringAxiom at 0x70f1fd0>,\n",
       " <axiomatic.axiom_training_stage.ClusteringAxiom at 0x714a9d0>,\n",
       " <axiomatic.axiom_training_stage.ClusteringAxiom at 0x714a9f0>,\n",
       " <axiomatic.axiom_training_stage.ClusteringAxiom at 0x714a990>,\n",
       " <axiomatic.axiom_training_stage.ClusteringAxiom at 0x714a910>,\n",
       " <axiomatic.axiom_training_stage.ClusteringAxiom at 0x714aa30>,\n",
       " <axiomatic.axiom_training_stage.ClusteringAxiom at 0x714aa90>,\n",
       " <axiomatic.axiom_training_stage.ClusteringAxiom at 0x714a970>,\n",
       " <axiomatic.axiom_training_stage.ClusteringAxiom at 0x714a930>,\n",
       " <axiomatic.axiom_training_stage.ClusteringAxiom at 0x714aab0>,\n",
       " <axiomatic.axiom_training_stage.ClusteringAxiom at 0x714aa70>,\n",
       " <axiomatic.axiom_training_stage.ClusteringAxiom at 0x714aa10>]"
      ]
     },
     "execution_count": 45,
     "metadata": {},
     "output_type": "execute_result"
    }
   ],
   "source": [
    "print(type(artifacts['axioms']['_clusters']))\n",
    "artifacts['axioms']['_clusters']"
   ]
  },
  {
   "cell_type": "code",
   "execution_count": 21,
   "metadata": {
    "collapsed": false
   },
   "outputs": [],
   "source": [
    "#ts = np.array(df_list_stage1[2].values.reshape(-1,1))\n",
    "#is_work = artifacts['axioms']['_clusters'][5].run(df_list_stage1[2])"
   ]
  },
  {
   "cell_type": "code",
   "execution_count": 22,
   "metadata": {
    "collapsed": false
   },
   "outputs": [],
   "source": [
    "#is_work"
   ]
  },
  {
   "cell_type": "markdown",
   "metadata": {},
   "source": [
    "#### Stage 2. Create axioms marking"
   ]
  },
  {
   "cell_type": "code",
   "execution_count": 81,
   "metadata": {
    "collapsed": false
   },
   "outputs": [],
   "source": [
    "config = {'genetic_algorithms_params': {'n_individuals': 15, 'mutation_prob_init': 0.7, 'crossover_prob_init': 0.7}, \n",
    "         'stop_criterion': {'maxIter': 10, 'maxIterWithoutChange': 5, 'minObjF': None},\n",
    "         'objective_function_algorithm': 'knn',\n",
    "         'axioms_set': artifacts['axioms']['_clusters'],\n",
    "         'train_data': dataset['train'], 'test_data': dataset['test']}\n",
    "ga_model = GeneticAlgorithm(config)"
   ]
  },
  {
   "cell_type": "code",
   "execution_count": 82,
   "metadata": {
    "collapsed": false
   },
   "outputs": [
    {
     "ename": "NameError",
     "evalue": "global name 'random' is not defined",
     "output_type": "error",
     "traceback": [
      "\u001b[1;31m---------------------------------------------------------------------------\u001b[0m",
      "\u001b[1;31mNameError\u001b[0m                                 Traceback (most recent call last)",
      "\u001b[1;32m<ipython-input-82-785a3583bb1b>\u001b[0m in \u001b[0;36m<module>\u001b[1;34m()\u001b[0m\n\u001b[1;32m----> 1\u001b[1;33m \u001b[0mga_model\u001b[0m\u001b[1;33m.\u001b[0m\u001b[0mRun\u001b[0m\u001b[1;33m(\u001b[0m\u001b[1;33m)\u001b[0m\u001b[1;33m\u001b[0m\u001b[0m\n\u001b[0m",
      "\u001b[1;32mC:\\Users\\Иван\\Documents\\NB programms\\LVK_axiomatic\\axiomatic\\anomaly_recognizer_training_stage.py\u001b[0m in \u001b[0;36mRun\u001b[1;34m(self)\u001b[0m\n\u001b[0;32m     73\u001b[0m         \u001b[1;32mprint\u001b[0m\u001b[1;33m(\u001b[0m\u001b[1;34m'...run started'\u001b[0m\u001b[1;33m)\u001b[0m\u001b[1;33m\u001b[0m\u001b[0m\n\u001b[0;32m     74\u001b[0m         \u001b[0mself\u001b[0m\u001b[1;33m.\u001b[0m\u001b[0mClear\u001b[0m\u001b[1;33m(\u001b[0m\u001b[1;33m)\u001b[0m\u001b[1;33m\u001b[0m\u001b[0m\n\u001b[1;32m---> 75\u001b[1;33m \u001b[1;33m\u001b[0m\u001b[0m\n\u001b[0m\u001b[0;32m     76\u001b[0m         \u001b[1;32mprint\u001b[0m\u001b[1;33m(\u001b[0m\u001b[1;34m'...create population started'\u001b[0m\u001b[1;33m)\u001b[0m\u001b[1;33m\u001b[0m\u001b[0m\n\u001b[0;32m     77\u001b[0m         \u001b[1;32mfor\u001b[0m \u001b[0mi\u001b[0m \u001b[1;32min\u001b[0m \u001b[0mrange\u001b[0m\u001b[1;33m(\u001b[0m\u001b[0mself\u001b[0m\u001b[1;33m.\u001b[0m\u001b[0mconfig\u001b[0m\u001b[1;33m[\u001b[0m\u001b[1;34m'genetic_algorithms_params'\u001b[0m\u001b[1;33m]\u001b[0m\u001b[1;33m[\u001b[0m\u001b[1;34m'n_individuals'\u001b[0m\u001b[1;33m]\u001b[0m\u001b[1;33m)\u001b[0m\u001b[1;33m:\u001b[0m\u001b[1;33m\u001b[0m\u001b[0m\n",
      "\u001b[1;32mC:\\Users\\Иван\\Documents\\NB programms\\LVK_axiomatic\\axiomatic\\anomaly_recognizer_training_stage.py\u001b[0m in \u001b[0;36mGenerateRandom\u001b[1;34m(self, axioms_set)\u001b[0m\n\u001b[0;32m     27\u001b[0m         \u001b[0mGenerates\u001b[0m \u001b[0mrandom\u001b[0m \u001b[0msolution\u001b[0m\u001b[1;33m.\u001b[0m\u001b[1;33m\u001b[0m\u001b[0m\n\u001b[0;32m     28\u001b[0m         \u001b[1;33m:\u001b[0m\u001b[0mparam\u001b[0m \u001b[0maxioms_set\u001b[0m\u001b[1;33m:\u001b[0m \u001b[0mall\u001b[0m \u001b[0mgenerated\u001b[0m \u001b[0maxioms\u001b[0m\u001b[1;33m.\u001b[0m\u001b[1;33m\u001b[0m\u001b[0m\n\u001b[1;32m---> 29\u001b[1;33m         '''\n\u001b[0m\u001b[0;32m     30\u001b[0m         \u001b[1;31m#n = random.randint(1, len(axioms_set))\u001b[0m\u001b[1;33m\u001b[0m\u001b[1;33m\u001b[0m\u001b[0m\n\u001b[0;32m     31\u001b[0m         \u001b[0mself\u001b[0m\u001b[1;33m.\u001b[0m\u001b[0maxioms\u001b[0m \u001b[1;33m=\u001b[0m \u001b[0mrandom\u001b[0m\u001b[1;33m.\u001b[0m\u001b[0msample\u001b[0m\u001b[1;33m(\u001b[0m\u001b[0maxioms_set\u001b[0m\u001b[1;33m,\u001b[0m \u001b[0mrandom\u001b[0m\u001b[1;33m.\u001b[0m\u001b[0mrandint\u001b[0m\u001b[1;33m(\u001b[0m\u001b[1;36m1\u001b[0m\u001b[1;33m,\u001b[0m \u001b[0mlen\u001b[0m\u001b[1;33m(\u001b[0m\u001b[0maxioms_set\u001b[0m\u001b[1;33m)\u001b[0m\u001b[1;33m)\u001b[0m\u001b[1;33m)\u001b[0m \u001b[1;31m# type(self.axioms)=list\u001b[0m\u001b[1;33m\u001b[0m\u001b[0m\n",
      "\u001b[1;31mNameError\u001b[0m: global name 'random' is not defined"
     ]
    }
   ],
   "source": [
    "ga_model.Run()"
   ]
  },
  {
   "cell_type": "code",
   "execution_count": 54,
   "metadata": {
    "collapsed": false
   },
   "outputs": [
    {
     "data": {
      "text/plain": [
       "0.9432541548095057"
      ]
     },
     "execution_count": 54,
     "metadata": {},
     "output_type": "execute_result"
    }
   ],
   "source": [
    "import random\n",
    "random.random()"
   ]
  },
  {
   "cell_type": "code",
   "execution_count": null,
   "metadata": {
    "collapsed": true
   },
   "outputs": [],
   "source": []
  },
  {
   "cell_type": "code",
   "execution_count": null,
   "metadata": {
    "collapsed": true
   },
   "outputs": [],
   "source": []
  },
  {
   "cell_type": "code",
   "execution_count": null,
   "metadata": {
    "collapsed": true
   },
   "outputs": [],
   "source": []
  },
  {
   "cell_type": "code",
   "execution_count": 65,
   "metadata": {
    "collapsed": false
   },
   "outputs": [],
   "source": [
    "from sklearn.linear_model import LogisticRegression"
   ]
  },
  {
   "cell_type": "code",
   "execution_count": 66,
   "metadata": {
    "collapsed": false
   },
   "outputs": [],
   "source": [
    "class A(object):\n",
    "    def __init__(self, value=0):\n",
    "        self.value = value\n",
    "        self.model = sklearn.linear_model.LogisticRegression()"
   ]
  },
  {
   "cell_type": "code",
   "execution_count": 68,
   "metadata": {
    "collapsed": false
   },
   "outputs": [
    {
     "name": "stdout",
     "output_type": "stream",
     "text": [
      "(5, 6, 7, 0, 0)\n"
     ]
    }
   ],
   "source": [
    "a = A(5)\n",
    "b = A(6)\n",
    "c = A(7)\n",
    "d = A()\n",
    "e = A(0)\n",
    "print(a.value,b.value,c.value,d.value,e.value)"
   ]
  },
  {
   "cell_type": "code",
   "execution_count": 32,
   "metadata": {
    "collapsed": false
   },
   "outputs": [
    {
     "name": "stdout",
     "output_type": "stream",
     "text": [
      "5\n",
      "6\n",
      "7\n",
      "0\n",
      "0\n"
     ]
    }
   ],
   "source": [
    "l = [a,b,c,d,e]\n",
    "for i in l:\n",
    "    print(i.value)"
   ]
  },
  {
   "cell_type": "code",
   "execution_count": 34,
   "metadata": {
    "collapsed": false
   },
   "outputs": [
    {
     "name": "stdout",
     "output_type": "stream",
     "text": [
      "7\n",
      "6\n",
      "5\n",
      "0\n",
      "0\n"
     ]
    }
   ],
   "source": [
    "l.sort(key = lambda x: x.value, reverse=True)\n",
    "for i in l:\n",
    "    print(i.value)"
   ]
  },
  {
   "cell_type": "code",
   "execution_count": 30,
   "metadata": {
    "collapsed": false
   },
   "outputs": [],
   "source": [
    "dummy_ax = DummyAxiomTrainingStage()\n",
    "artifacts = dummy_ax.train()"
   ]
  },
  {
   "cell_type": "code",
   "execution_count": 44,
   "metadata": {
    "collapsed": false
   },
   "outputs": [
    {
     "data": {
      "text/plain": [
       "['d', 'c', 'e', 'a']"
      ]
     },
     "execution_count": 44,
     "metadata": {},
     "output_type": "execute_result"
    }
   ],
   "source": [
    "l = ['a','a','b','c','d','e']\n",
    "import random\n",
    "a = random.sample(l,4)\n",
    "a"
   ]
  }
 ],
 "metadata": {
  "kernelspec": {
   "display_name": "Python 2",
   "language": "python",
   "name": "python2"
  },
  "language_info": {
   "codemirror_mode": {
    "name": "ipython",
    "version": 2
   },
   "file_extension": ".py",
   "mimetype": "text/x-python",
   "name": "python",
   "nbconvert_exporter": "python",
   "pygments_lexer": "ipython2",
   "version": "2.7.9"
  }
 },
 "nbformat": 4,
 "nbformat_minor": 0
}
